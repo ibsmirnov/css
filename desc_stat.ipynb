{
 "cells": [
  {
   "cell_type": "code",
   "execution_count": 3,
   "metadata": {},
   "outputs": [
    {
     "data": {
      "text/html": [
       "<div>\n",
       "<style scoped>\n",
       "    .dataframe tbody tr th:only-of-type {\n",
       "        vertical-align: middle;\n",
       "    }\n",
       "\n",
       "    .dataframe tbody tr th {\n",
       "        vertical-align: top;\n",
       "    }\n",
       "\n",
       "    .dataframe thead th {\n",
       "        text-align: right;\n",
       "    }\n",
       "</style>\n",
       "<table border=\"1\" class=\"dataframe\">\n",
       "  <thead>\n",
       "    <tr style=\"text-align: right;\">\n",
       "      <th></th>\n",
       "      <th>Type</th>\n",
       "      <th>Speaker</th>\n",
       "      <th>Topic</th>\n",
       "      <th>Year</th>\n",
       "    </tr>\n",
       "  </thead>\n",
       "  <tbody>\n",
       "    <tr>\n",
       "      <th>0</th>\n",
       "      <td>Keynote</td>\n",
       "      <td>Michael Macy</td>\n",
       "      <td>Opportunities and challenges for computational...</td>\n",
       "      <td>2015</td>\n",
       "    </tr>\n",
       "    <tr>\n",
       "      <th>1</th>\n",
       "      <td>Keynote</td>\n",
       "      <td>Jure Leskovec</td>\n",
       "      <td>Structure and dynamics of information propagation</td>\n",
       "      <td>2015</td>\n",
       "    </tr>\n",
       "    <tr>\n",
       "      <th>2</th>\n",
       "      <td>Plenary</td>\n",
       "      <td>Omar Guerrero, Eduardo Lopez, Robert Axtell</td>\n",
       "      <td>Labor flows and unemployment mediated by networks</td>\n",
       "      <td>2015</td>\n",
       "    </tr>\n",
       "    <tr>\n",
       "      <th>3</th>\n",
       "      <td>Keynote</td>\n",
       "      <td>Duncan Watts</td>\n",
       "      <td>An experimental study of collective self-organ...</td>\n",
       "      <td>2015</td>\n",
       "    </tr>\n",
       "    <tr>\n",
       "      <th>4</th>\n",
       "      <td>Keynote</td>\n",
       "      <td>Matthew Jackson</td>\n",
       "      <td>Multiplexing and the interaction between borro...</td>\n",
       "      <td>2015</td>\n",
       "    </tr>\n",
       "  </tbody>\n",
       "</table>\n",
       "</div>"
      ],
      "text/plain": [
       "      Type                                      Speaker  \\\n",
       "0  Keynote                                 Michael Macy   \n",
       "1  Keynote                                Jure Leskovec   \n",
       "2  Plenary  Omar Guerrero, Eduardo Lopez, Robert Axtell   \n",
       "3  Keynote                                 Duncan Watts   \n",
       "4  Keynote                              Matthew Jackson   \n",
       "\n",
       "                                               Topic  Year  \n",
       "0  Opportunities and challenges for computational...  2015  \n",
       "1  Structure and dynamics of information propagation  2015  \n",
       "2  Labor flows and unemployment mediated by networks  2015  \n",
       "3  An experimental study of collective self-organ...  2015  \n",
       "4  Multiplexing and the interaction between borro...  2015  "
      ]
     },
     "execution_count": 3,
     "metadata": {},
     "output_type": "execute_result"
    }
   ],
   "source": [
    "# create descriptive statistics of css.csv\n",
    "import pandas as pd\n",
    "\n",
    "# read csv file\n",
    "df = pd.read_csv('css.csv')\n",
    "df.head()"
   ]
  },
  {
   "cell_type": "code",
   "execution_count": 18,
   "metadata": {},
   "outputs": [
    {
     "name": "stdout",
     "output_type": "stream",
     "text": [
      "Year\n",
      "2024    631\n",
      "2023    616\n",
      "2020    436\n",
      "2019    379\n",
      "2015    310\n",
      "2021    280\n",
      "2018    238\n",
      "2016    235\n",
      "2017    213\n",
      "2022    154\n",
      "Name: count, dtype: int64\n"
     ]
    }
   ],
   "source": [
    "# print the number of rows for each year\n",
    "print(df['Year'].value_counts())"
   ]
  },
  {
   "cell_type": "code",
   "execution_count": null,
   "metadata": {},
   "outputs": [
    {
     "data": {
      "text/plain": [
       "([<matplotlib.axis.XTick at 0x11914b5c0>,\n",
       "  <matplotlib.axis.XTick at 0x11926ed50>,\n",
       "  <matplotlib.axis.XTick at 0x11927c230>,\n",
       "  <matplotlib.axis.XTick at 0x11927ce90>,\n",
       "  <matplotlib.axis.XTick at 0x11927db80>,\n",
       "  <matplotlib.axis.XTick at 0x11927e810>,\n",
       "  <matplotlib.axis.XTick at 0x11927c500>,\n",
       "  <matplotlib.axis.XTick at 0x11927f7d0>,\n",
       "  <matplotlib.axis.XTick at 0x119141040>,\n",
       "  <matplotlib.axis.XTick at 0x119168e30>,\n",
       "  <matplotlib.axis.XTick at 0x119151b50>],\n",
       " [Text(2015, 0, '2015'),\n",
       "  Text(2016, 0, '2016'),\n",
       "  Text(2017, 0, '2017'),\n",
       "  Text(2018, 0, '2018'),\n",
       "  Text(2019, 0, '2019'),\n",
       "  Text(2020, 0, '2020'),\n",
       "  Text(2021, 0, '2021'),\n",
       "  Text(2022, 0, '2022'),\n",
       "  Text(2023, 0, '2023'),\n",
       "  Text(2024, 0, '2024'),\n",
       "  Text(2025, 0, '2025')])"
      ]
     },
     "execution_count": 21,
     "metadata": {},
     "output_type": "execute_result"
    },
    {
     "data": {
      "image/png": "[encoded data removed]",
      "text/plain": [
       "<Figure size 640x480 with 1 Axes>"
      ]
     },
     "metadata": {},
     "output_type": "display_data"
    }
   ],
   "source": [
    "import matplotlib.pyplot as plt\n",
    "# sort by year\n",
    "df = df.sort_values(by='Year')\n",
    "\n",
    "# create a histogram of the year\n",
    "# add every year as labels in x-axis \n",
    "df['Year'].hist(bins=range(2015, 2026)) # add labels of every column in x-axis\n",
    "plt.xticks(range(2015, 2025), rotation=45)\n",
    "\n"
   ]
  },
  {
   "cell_type": "code",
   "execution_count": 7,
   "metadata": {},
   "outputs": [
    {
     "data": {
      "text/plain": [
       "<Axes: >"
      ]
     },
     "execution_count": 7,
     "metadata": {},
     "output_type": "execute_result"
    },
    {
     "data": {
      "image/png": "[encoded data removed]",
      "text/plain": [
       "<Figure size 640x480 with 1 Axes>"
      ]
     },
     "metadata": {},
     "output_type": "display_data"
    }
   ],
   "source": [
    "# create a histogram by year if the type is 'Poster' or 'Poster Session'\n",
    "df[df['Type'].str.contains('Poster')]['Year'].hist(bins=range(2015, 2025))\n"
   ]
  },
  {
   "cell_type": "code",
   "execution_count": 6,
   "metadata": {},
   "outputs": [
    {
     "data": {
      "text/html": [
       "<div>\n",
       "<style scoped>\n",
       "    .dataframe tbody tr th:only-of-type {\n",
       "        vertical-align: middle;\n",
       "    }\n",
       "\n",
       "    .dataframe tbody tr th {\n",
       "        vertical-align: top;\n",
       "    }\n",
       "\n",
       "    .dataframe thead th {\n",
       "        text-align: right;\n",
       "    }\n",
       "</style>\n",
       "<table border=\"1\" class=\"dataframe\">\n",
       "  <thead>\n",
       "    <tr style=\"text-align: right;\">\n",
       "      <th></th>\n",
       "      <th>2015</th>\n",
       "      <th>2016</th>\n",
       "      <th>2017</th>\n",
       "      <th>2018</th>\n",
       "      <th>2019</th>\n",
       "      <th>2020</th>\n",
       "      <th>2021</th>\n",
       "      <th>2022</th>\n",
       "      <th>2023</th>\n",
       "      <th>2024</th>\n",
       "    </tr>\n",
       "  </thead>\n",
       "  <tbody>\n",
       "    <tr>\n",
       "      <th>0</th>\n",
       "      <td>o</td>\n",
       "      <td>e</td>\n",
       "      <td>h</td>\n",
       "      <td>d</td>\n",
       "      <td>u</td>\n",
       "      <td>t</td>\n",
       "      <td>t</td>\n",
       "      <td>i</td>\n",
       "      <td>e</td>\n",
       "      <td>s</td>\n",
       "    </tr>\n",
       "    <tr>\n",
       "      <th>1</th>\n",
       "      <td>p</td>\n",
       "      <td>f</td>\n",
       "      <td>y</td>\n",
       "      <td>i</td>\n",
       "      <td>n</td>\n",
       "      <td>e</td>\n",
       "      <td>h</td>\n",
       "      <td>n</td>\n",
       "      <td>x</td>\n",
       "      <td>p</td>\n",
       "    </tr>\n",
       "    <tr>\n",
       "      <th>2</th>\n",
       "      <td>p</td>\n",
       "      <td>f</td>\n",
       "      <td>b</td>\n",
       "      <td>s</td>\n",
       "      <td>d</td>\n",
       "      <td>m</td>\n",
       "      <td>e</td>\n",
       "      <td>f</td>\n",
       "      <td>p</td>\n",
       "      <td>e</td>\n",
       "    </tr>\n",
       "    <tr>\n",
       "      <th>3</th>\n",
       "      <td>o</td>\n",
       "      <td>e</td>\n",
       "      <td>r</td>\n",
       "      <td>c</td>\n",
       "      <td>e</td>\n",
       "      <td>p</td>\n",
       "      <td></td>\n",
       "      <td>o</td>\n",
       "      <td>l</td>\n",
       "      <td>e</td>\n",
       "    </tr>\n",
       "    <tr>\n",
       "      <th>4</th>\n",
       "      <td>r</td>\n",
       "      <td>c</td>\n",
       "      <td>i</td>\n",
       "      <td>o</td>\n",
       "      <td>r</td>\n",
       "      <td>o</td>\n",
       "      <td>i</td>\n",
       "      <td>r</td>\n",
       "      <td>o</td>\n",
       "      <td>c</td>\n",
       "    </tr>\n",
       "  </tbody>\n",
       "</table>\n",
       "</div>"
      ],
      "text/plain": [
       "  2015 2016 2017 2018 2019 2020 2021 2022 2023 2024\n",
       "0    o    e    h    d    u    t    t    i    e    s\n",
       "1    p    f    y    i    n    e    h    n    x    p\n",
       "2    p    f    b    s    d    m    e    f    p    e\n",
       "3    o    e    r    c    e    p         o    l    e\n",
       "4    r    c    i    o    r    o    i    r    o    c"
      ]
     },
     "execution_count": 6,
     "metadata": {},
     "output_type": "execute_result"
    }
   ],
   "source": [
    "from collections import Counter\n",
    "\n",
    "def get_top_keywords(topics_by_year):\n",
    "    keywords_by_year = {}\n",
    "    for year, topics in topics_by_year.items():\n",
    "        year_keywords = []\n",
    "        for topic in topics:\n",
    "            # Tokenize topic into words\n",
    "            words = topic.lower().split(' ')\n",
    "            # Get word frequencies\n",
    "            word_freq = Counter(words)\n",
    "            # Get top 5 words by frequency\n",
    "            top_words = sorted(word_freq.items(), key=lambda x: x[1], reverse=True)[:5]\n",
    "            year_keywords.extend([word for word, freq in top_words])\n",
    "        keywords_by_year[year] = year_keywords\n",
    "    return keywords_by_year\n",
    "\n",
    "# Get top keywords for each year\n",
    "topics_by_year = df.groupby('Year')['Topic'].apply(lambda x: ' '.join(x)).to_dict()\n",
    "keywords_by_year = get_top_keywords(topics_by_year)\n",
    "# Create a DataFrame with keywords by year\n",
    "# Find the maximum length of the lists in the dictionary\n",
    "max_length = max(len(keywords) for keywords in keywords_by_year.values())\n",
    "\n",
    "# Pad the lists with empty strings to make them all the same length\n",
    "for year in keywords_by_year:\n",
    "    keywords_by_year[year] += [''] * (max_length - len(keywords_by_year[year]))\n",
    "\n",
    "# Create a DataFrame with keywords by year\n",
    "keywords_df = pd.DataFrame(keywords_by_year)\n",
    "\n",
    "# Save to CSV\n",
    "keywords_df.to_csv('keywords.csv', index=False)\n",
    "\n",
    "# Display the DataFrame\n",
    "keywords_df.head()\n"
   ]
  },
  {
   "cell_type": "code",
   "execution_count": null,
   "metadata": {},
   "outputs": [],
   "source": []
  }
 ],
 "metadata": {
  "kernelspec": {
   "display_name": "css",
   "language": "python",
   "name": "css"
  },
  "language_info": {
   "codemirror_mode": {
    "name": "ipython",
    "version": 3
   },
   "file_extension": ".py",
   "mimetype": "text/x-python",
   "name": "python",
   "nbconvert_exporter": "python",
   "pygments_lexer": "ipython3",
   "version": "3.12.5"
  }
 },
 "nbformat": 4,
 "nbformat_minor": 2
}
